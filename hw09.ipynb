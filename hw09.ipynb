{
 "cells": [
  {
   "cell_type": "markdown",
   "metadata": {},
   "source": [
    "# Metadata\n",
    "\n",
    "```yaml\n",
    "Course:  DS 5100\n",
    "Module:  09 Python Packages\n",
    "Topic:   HW Package Booklover\n",
    "Author:  R.C. Alvarado (adapted)\n",
    "Date:    7 July 2023 (revised)\n",
    "```"
   ]
  },
  {
   "cell_type": "markdown",
   "metadata": {},
   "source": [
    "# Student Info\n",
    "\n",
    "* Name:  Becky Desrosiers\n",
    "* Net UD: rn7ena\n",
    "* URL of this file in GitHub: https://github.com/oatmeelsquares/DS5100-oatmeelsquares/blob/main/lessons/M09/hw09.ipynb"
   ]
  },
  {
   "cell_type": "markdown",
   "metadata": {},
   "source": [
    "# Instructions\n",
    "\n",
    "In your **private course repo on Rivanna**, use this Jupyter notebook and the data file described to write code that performs the tasks below. \n",
    "\n",
    "Save your notebook in the `M09` directory.\n",
    "\n",
    "Remember to add and commit these files to your repo. \n",
    "\n",
    "Then push your commits to your repo on GitHib.\n",
    "\n",
    "Be sure to fill out the **Student Info** block above.\n",
    "\n",
    "To submit your homework, save your results as a PDF and upload it to GradeScope. More information about how to create the PDF for this assignment are included at the end of this document.\n",
    "\n",
    "**TOTAL POINTS: 8**"
   ]
  },
  {
   "cell_type": "markdown",
   "metadata": {},
   "source": [
    "# Overview\n",
    "\n",
    "Follow the following recipe we used in class to package the code you wrote for `HW08` -- `booklover.py` and `booklover_test.py`.\n",
    "\n",
    "* Create a new git repo for your package.\n",
    "* Create and edit the required files and directories for your package and move the booklover modules there.\n",
    "* Stage, commit, and push all the files you've created.\n",
    "* Install your package with pip.\n",
    "* Outside of your package dir, write a script to test your method.\n",
    "\n",
    "Put this notebook in your repo. This will allow you to execute bash commands and capture the outpunt directly in the notebook.\n",
    "\n",
    "**TOTAL: 8 POINTS**"
   ]
  },
  {
   "cell_type": "markdown",
   "metadata": {
    "tags": []
   },
   "source": [
    "# Tasks"
   ]
  },
  {
   "cell_type": "markdown",
   "metadata": {},
   "source": [
    "## Task 1\n",
    "\n",
    "(5 points)\n",
    "\n",
    "Show the directory structure of your repo by running this command from the root of your repo:"
   ]
  },
  {
   "cell_type": "code",
   "execution_count": 1,
   "metadata": {
    "vscode": {
     "languageId": "powershell"
    }
   },
   "outputs": [
    {
     "name": "stdout",
     "output_type": "stream",
     "text": [
      ".:\n",
      "total 32\n",
      "-rw-r--r-- 1 rn7ena users 5423 Oct 27 12:11 hw09.ipynb\n",
      "drwxr-sr-x 2 rn7ena users 2048 Oct 27 11:43 HW09Package\n",
      "-rw-r--r-- 1 rn7ena users  185 Oct 27 11:57 hw09_test_script.py\n",
      "-rw-r--r-- 1 rn7ena users 1071 Oct 27 11:40 LICENSE\n",
      "-rw-r--r-- 1 rn7ena users   25 Oct 27 11:40 README.md\n",
      "-rw-r--r-- 1 rn7ena users    0 Oct 27 11:40 setup.py\n",
      "\n",
      "./HW09Package:\n",
      "total 28\n",
      "-rw-r--r-- 1 rn7ena users 1668 Oct 27 11:42 booklover.py\n",
      "-rw-r--r-- 1 rn7ena users 1442 Oct 27 11:43 booklover_results.txt\n",
      "-rw-r--r-- 1 rn7ena users 2425 Oct 27 11:43 booklover_test.py\n",
      "-rw-r--r-- 1 rn7ena users    0 Oct 27 11:41 __init__.py\n"
     ]
    }
   ],
   "source": [
    "!ls -lR"
   ]
  },
  {
   "cell_type": "markdown",
   "metadata": {},
   "source": [
    "## Task 2\n",
    "\n",
    "(1 point)\n",
    "\n",
    "Put the URL of your GitHub repo here. Just paste it into a Markdown cell."
   ]
  },
  {
   "cell_type": "markdown",
   "metadata": {},
   "source": [
    "URL: https://github.com/oatmeelsquares/HW09"
   ]
  },
  {
   "cell_type": "markdown",
   "metadata": {
    "lines_to_next_cell": 0
   },
   "source": [
    "## Task 3\n",
    "\n",
    "(1 point)\n",
    "\n",
    "Show the results of installing your package.\n",
    "\n",
    "```bash\n",
    "!pip install -e .\n",
    "```"
   ]
  },
  {
   "cell_type": "code",
   "execution_count": 3,
   "metadata": {},
   "outputs": [
    {
     "name": "stdout",
     "output_type": "stream",
     "text": [
      "Defaulting to user installation because normal site-packages is not writeable\n",
      "Obtaining file:///sfs/qumulo/qhome/rn7ena/Documents/MSDS/DS5100/HW09\n",
      "Installing collected packages: HW09Package\n",
      "  Running setup.py develop for HW09Package\n",
      "Successfully installed HW09Package\n"
     ]
    }
   ],
   "source": [
    "!pip install -e ."
   ]
  },
  {
   "cell_type": "markdown",
   "metadata": {},
   "source": [
    "## Task 4\n",
    "\n",
    "(1 point)\n",
    "\n",
    "Create a file outside your repo to test your package by running it.\n",
    "\n",
    "To do this, import the package into your file and create a BookLover object.\n",
    "\n",
    "Then add a book and then print number books read.\n",
    "\n",
    "Then run the file. \n",
    "\n",
    "Show the output of running the file below, using a command like the following:\n",
    "\n",
    "```bash\n",
    "!python ../book_lover_demo.py\n",
    "```"
   ]
  },
  {
   "cell_type": "code",
   "execution_count": 11,
   "metadata": {},
   "outputs": [
    {
     "name": "stdout",
     "output_type": "stream",
     "text": [
      "3 books read!\n"
     ]
    }
   ],
   "source": [
    "!python ../DS5100-oatmeelsquares/hw09_test_script.py"
   ]
  }
 ],
 "metadata": {
  "jupytext": {
   "cell_metadata_filter": "-all",
   "main_language": "bash",
   "notebook_metadata_filter": "-all"
  },
  "kernelspec": {
   "display_name": "Python 3",
   "language": "python",
   "name": "python3"
  },
  "language_info": {
   "codemirror_mode": {
    "name": "ipython",
    "version": 3
   },
   "file_extension": ".py",
   "mimetype": "text/x-python",
   "name": "python",
   "nbconvert_exporter": "python",
   "pygments_lexer": "ipython3",
   "version": "3.8.8"
  },
  "vscode": {
   "interpreter": {
    "hash": "c3b963de08c47c3b6758389c5e0978ad73698a111eb508d4e16b558edb8f4cbf"
   }
  },
  "widgets": {
   "application/vnd.jupyter.widget-state+json": {
    "state": {},
    "version_major": 2,
    "version_minor": 0
   }
  }
 },
 "nbformat": 4,
 "nbformat_minor": 5
}
